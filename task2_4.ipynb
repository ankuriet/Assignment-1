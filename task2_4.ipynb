{
  "nbformat": 4,
  "nbformat_minor": 0,
  "metadata": {
    "colab": {
      "name": "task2 4.ipynb",
      "provenance": [],
      "collapsed_sections": [],
      "authorship_tag": "ABX9TyOw1xuo4Cg658mt46m8LGEE",
      "include_colab_link": true
    },
    "kernelspec": {
      "name": "python3",
      "display_name": "Python 3"
    }
  },
  "cells": [
    {
      "cell_type": "markdown",
      "metadata": {
        "id": "view-in-github",
        "colab_type": "text"
      },
      "source": [
        "<a href=\"https://colab.research.google.com/github/ankuriet/Assignments-ineuron/blob/master/task2_4.ipynb\" target=\"_parent\"><img src=\"https://colab.research.google.com/assets/colab-badge.svg\" alt=\"Open In Colab\"/></a>"
      ]
    },
    {
      "cell_type": "code",
      "metadata": {
        "id": "COwNpV8FQHgp",
        "colab_type": "code",
        "outputId": "c8204647-b6a8-4f3f-c3c7-40aaff42dfbb",
        "colab": {
          "base_uri": "https://localhost:8080/",
          "height": 85
        }
      },
      "source": [
        "print(\"WE, THE PEOPLE OF INDIA,\")\n",
        "print(\"         having solemnly resolved to constitute India into a SOVEREIGN, !\")\n",
        "print(\"                   SOCIALIST, SECULAR, DEMOCRATIC REPUBLIC\")\n",
        "print(\"                     and to secure to all its citizens\")"
      ],
      "execution_count": 0,
      "outputs": [
        {
          "output_type": "stream",
          "text": [
            "WE, THE PEOPLE OF INDIA,\n",
            "         having solemnly resolved to constitute India into a SOVEREIGN, !\n",
            "                   SOCIALIST, SECULAR, DEMOCRATIC REPUBLIC\n",
            "                     and to secure to all its citizens\n"
          ],
          "name": "stdout"
        }
      ]
    }
  ]
}