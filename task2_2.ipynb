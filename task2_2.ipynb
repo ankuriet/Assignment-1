{
  "nbformat": 4,
  "nbformat_minor": 0,
  "metadata": {
    "colab": {
      "name": "task2 2.ipynb",
      "provenance": [],
      "collapsed_sections": [],
      "authorship_tag": "ABX9TyOdl6N3znN8mgLTQaxyZKEt",
      "include_colab_link": true
    },
    "kernelspec": {
      "name": "python3",
      "display_name": "Python 3"
    }
  },
  "cells": [
    {
      "cell_type": "markdown",
      "metadata": {
        "id": "view-in-github",
        "colab_type": "text"
      },
      "source": [
        "<a href=\"https://colab.research.google.com/github/ankuriet/Assignments-ineuron/blob/master/task2_2.ipynb\" target=\"_parent\"><img src=\"https://colab.research.google.com/assets/colab-badge.svg\" alt=\"Open In Colab\"/></a>"
      ]
    },
    {
      "cell_type": "code",
      "metadata": {
        "id": "18VoC-Puzeor",
        "colab_type": "code",
        "outputId": "b61f8202-31ef-4e95-b302-86f48ff823d0",
        "colab": {
          "base_uri": "https://localhost:8080/",
          "height": 170
        }
      },
      "source": [
        "z=1\n",
        "for x in range(5):\n",
        "  for y in range(z):\n",
        "    print(\"*\",end=\"\")\n",
        "  z=z+1\n",
        "  print(\"\\r\")\n",
        "z=4  \n",
        "for x in range(4):\n",
        "  for y in range(z):\n",
        "    print(\"*\",end=\"\")\n",
        "  z=z-1\n",
        "  print(\"\\r\")\n",
        "\n"
      ],
      "execution_count": 0,
      "outputs": [
        {
          "output_type": "stream",
          "text": [
            "*\r\n",
            "**\r\n",
            "***\r\n",
            "****\r\n",
            "*****\r\n",
            "****\r\n",
            "***\r\n",
            "**\r\n",
            "*\r\n"
          ],
          "name": "stdout"
        }
      ]
    }
  ]
}