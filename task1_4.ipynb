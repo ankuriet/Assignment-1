{
  "nbformat": 4,
  "nbformat_minor": 0,
  "metadata": {
    "colab": {
      "name": "task1 4",
      "provenance": [],
      "collapsed_sections": [],
      "authorship_tag": "ABX9TyOepDAb5pHx2MO8XpgJZE67",
      "include_colab_link": true
    },
    "kernelspec": {
      "name": "python3",
      "display_name": "Python 3"
    }
  },
  "cells": [
    {
      "cell_type": "markdown",
      "metadata": {
        "id": "view-in-github",
        "colab_type": "text"
      },
      "source": [
        "<a href=\"https://colab.research.google.com/github/ankuriet/Assignments-ineuron/blob/master/task1_4.ipynb\" target=\"_parent\"><img src=\"https://colab.research.google.com/assets/colab-badge.svg\" alt=\"Open In Colab\"/></a>"
      ]
    },
    {
      "cell_type": "code",
      "metadata": {
        "id": "P4O66mtyJrir",
        "colab_type": "code",
        "outputId": "5be55f6a-b959-49c9-bc0d-465b04e975c3",
        "colab": {
          "base_uri": "https://localhost:8080/",
          "height": 51
        }
      },
      "source": [
        "r=int(input())\n",
        "v=(4/3)*3.14*r*r*r\n",
        "print(v)"
      ],
      "execution_count": 0,
      "outputs": [
        {
          "output_type": "stream",
          "text": [
            "12\n",
            "7234.559999999999\n"
          ],
          "name": "stdout"
        }
      ]
    }
  ]
}