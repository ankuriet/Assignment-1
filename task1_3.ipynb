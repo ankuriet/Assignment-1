{
  "nbformat": 4,
  "nbformat_minor": 0,
  "metadata": {
    "colab": {
      "name": "task1 3",
      "provenance": [],
      "collapsed_sections": [],
      "authorship_tag": "ABX9TyN+bL1YsxIQQl5+NE+wmXBg",
      "include_colab_link": true
    },
    "kernelspec": {
      "name": "python3",
      "display_name": "Python 3"
    }
  },
  "cells": [
    {
      "cell_type": "markdown",
      "metadata": {
        "id": "view-in-github",
        "colab_type": "text"
      },
      "source": [
        "<a href=\"https://colab.research.google.com/github/ankuriet/Assignments-ineuron/blob/master/task1_3.ipynb\" target=\"_parent\"><img src=\"https://colab.research.google.com/assets/colab-badge.svg\" alt=\"Open In Colab\"/></a>"
      ]
    },
    {
      "cell_type": "code",
      "metadata": {
        "id": "QKEDAxR0IHjt",
        "colab_type": "code",
        "outputId": "c74673c5-3e8b-49b9-bb4a-f7b9e47bf822",
        "colab": {
          "base_uri": "https://localhost:8080/",
          "height": 68
        }
      },
      "source": [
        "a=input()\n",
        "b=input()\n",
        "print(b+\" \"+a)"
      ],
      "execution_count": 0,
      "outputs": [
        {
          "output_type": "stream",
          "text": [
            "ankur\n",
            "soni\n",
            "soni ankur\n"
          ],
          "name": "stdout"
        }
      ]
    }
  ]
}