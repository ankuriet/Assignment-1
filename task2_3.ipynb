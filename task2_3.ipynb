{
  "nbformat": 4,
  "nbformat_minor": 0,
  "metadata": {
    "colab": {
      "name": "task2 3.ipynb",
      "provenance": [],
      "collapsed_sections": [],
      "authorship_tag": "ABX9TyOl9sXvYjOFrt0pikOBtsb7",
      "include_colab_link": true
    },
    "kernelspec": {
      "name": "python3",
      "display_name": "Python 3"
    }
  },
  "cells": [
    {
      "cell_type": "markdown",
      "metadata": {
        "id": "view-in-github",
        "colab_type": "text"
      },
      "source": [
        "<a href=\"https://colab.research.google.com/github/ankuriet/Assignments-ineuron/blob/master/task2_3.ipynb\" target=\"_parent\"><img src=\"https://colab.research.google.com/assets/colab-badge.svg\" alt=\"Open In Colab\"/></a>"
      ]
    },
    {
      "cell_type": "code",
      "metadata": {
        "id": "WaJ_6vy04WUP",
        "colab_type": "code",
        "outputId": "e5afab7b-bb8b-4e2f-949d-8df1be18205c",
        "colab": {
          "base_uri": "https://localhost:8080/",
          "height": 51
        }
      },
      "source": [
        "a=input()\n",
        "l=len(a)\n",
        "b=[]\n",
        "for i in range(l-1,-1,-1):\n",
        "  b.append(a[i])\n",
        "c=\"\".join([str(x) for x in b]) \n",
        "print(c)"
      ],
      "execution_count": 0,
      "outputs": [
        {
          "output_type": "stream",
          "text": [
            "ankur soni\n",
            "inos rukna\n"
          ],
          "name": "stdout"
        }
      ]
    }
  ]
}